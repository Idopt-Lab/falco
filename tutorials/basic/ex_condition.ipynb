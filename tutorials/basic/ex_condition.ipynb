{
 "cells": [
  {
   "cell_type": "markdown",
   "id": "e7661b0a",
   "metadata": {},
   "source": [
    "## Flight Condition Setup\n",
    "\n",
    "Here, you will learn how to define static flight conditions (such as altitude, speed, and attitude) and run basic simulations using the previously defined components, solvers, and mass properties.\n",
    "\n",
    "**Purpose:**\n",
    "- Set up the environment and conditions for flight simulation.\n",
    "- Demonstrate how to run a basic simulation and interpret the results.\n",
    "\n",
    "**What you will learn:**\n",
    "- How to specify flight conditions for your aircraft.\n",
    "- How to execute a simulation and analyze the output.\n",
    "\n",
    "\n"
   ]
  },
  {
   "cell_type": "code",
   "execution_count": null,
   "id": "44a08d56",
   "metadata": {},
   "outputs": [],
   "source": [
    "%run ../basic/ex_geometry.ipynb\n",
    "%run ../basic/ex_mass_properties.ipynb\n",
    "%run ../basic/ex_controls.ipynb\n",
    "%run ../basic/ex_solvers.ipynb\n",
    "\n",
    "import csdl_alpha as csdl\n",
    "import numpy as np\n",
    "from falco.core.vehicle.conditions import aircraft_conditions\n",
    "from falco import REPO_ROOT_FOLDER, Q_\n",
    "import sys\n",
    "import pandas as pd"
   ]
  },
  {
   "cell_type": "code",
   "execution_count": null,
   "id": "e7b73122",
   "metadata": {},
   "outputs": [],
   "source": [
    "cruise = aircraft_conditions.CruiseCondition(fd_axis=fd_axis,\n",
    "                                             controls=c172_controls,\n",
    "                                             speed=Q_(100, 'm/s'),\n",
    "                                                altitude=Q_(1000, 'm'),\n",
    "                                                pitch_angle=Q_(0, 'rad'),\n",
    "                                                range=Q_(1000, 'm'))\n",
    "\n",
    "tf, tm = Aircraft_comp.compute_total_loads(fd_state=cruise.ac_states, controls=cruise.controls)\n",
    "print(tf.value)\n",
    "print(tm.value)"
   ]
  }
 ],
 "metadata": {
  "kernelspec": {
   "display_name": "aircraft_framework_env",
   "language": "python",
   "name": "python3"
  },
  "language_info": {
   "name": "python",
   "version": "3.10.16"
  }
 },
 "nbformat": 4,
 "nbformat_minor": 5
}
