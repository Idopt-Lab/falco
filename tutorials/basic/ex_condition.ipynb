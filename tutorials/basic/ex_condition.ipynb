{
 "cells": [
  {
   "cell_type": "markdown",
   "id": "e7661b0a",
   "metadata": {},
   "source": [
    "## Flight Condition Setup\n",
    "\n",
    "Here, you will learn how to define static flight conditions (such as altitude, speed, and attitude) and run basic simulations using the previously defined components, solvers, and mass properties.\n",
    "\n",
    "**Purpose:**\n",
    "- Set up the environment and conditions for flight simulation.\n",
    "- Demonstrate how to run a basic simulation and interpret the results.\n",
    "\n",
    "**What you will learn:**\n",
    "- How to specify flight conditions for your aircraft.\n",
    "- How to execute a simulation and analyze the output.\n",
    "\n",
    "\n"
   ]
  },
  {
   "cell_type": "code",
   "execution_count": 1,
   "id": "44a08d56",
   "metadata": {},
   "outputs": [
    {
     "name": "stdout",
     "output_type": "stream",
     "text": [
      "Importing OpenVSP file: C:\\Users\\joeyg\\OneDrive\\Documents\\GitHub\\Sarojini_Research\\aircraft-flight-simulator\\tutorials\\geometries\\c172.stp\n",
      "Fuselage: mass_properties is set\n",
      "Wing: mass_properties is set\n",
      "Horizontal Tail: mass_properties is set\n",
      "Vertical Tail: mass_properties is set\n",
      "Engine: mass_properties is set\n",
      "Component Mass: [1043.2616] kg\n",
      "Component CG: [0. 0. 0.] m\n",
      "Component Inertia: [[1285.3154166    -0.           -0.        ]\n",
      " [  -0.         1824.9309607    -0.        ]\n",
      " [  -0.           -0.         2666.89390765]]\n"
     ]
    }
   ],
   "source": [
    "%run ex_mass_properties.ipynb\n",
    "%run ex_controls.ipynb\n",
    "%run ex_solvers.ipynb\n",
    "\n",
    "\n",
    "import csdl_alpha as csdl\n",
    "import numpy as np\n",
    "from falco.core.vehicle.conditions import aircraft_conditions\n",
    "from falco import REPO_ROOT_FOLDER, Q_\n",
    "import sys\n",
    "import pandas as pd"
   ]
  },
  {
   "cell_type": "code",
   "execution_count": 2,
   "id": "e7b73122",
   "metadata": {},
   "outputs": [
    {
     "name": "stdout",
     "output_type": "stream",
     "text": [
      "[2680.69809       0.         9347.15406558]\n",
      "[-4.45842018e-02  2.96147543e+01  9.03733821e-03]\n"
     ]
    },
    {
     "name": "stderr",
     "output_type": "stream",
     "text": [
      "c:\\users\\joeyg\\onedrive\\documents\\github\\sarojini_research\\csdl_alpha\\csdl_alpha\\src\\operations\\division.py:19: RuntimeWarning: invalid value encountered in divide\n",
      "  return x/y\n"
     ]
    }
   ],
   "source": [
    "cruise = aircraft_conditions.CruiseCondition(fd_axis=fd_axis,\n",
    "                                             controls=c172_controls,\n",
    "                                             speed=Q_(25, 'm/s'),\n",
    "                                                altitude=Q_(50, 'ft'),\n",
    "                                                pitch_angle=Q_(0, 'rad'),\n",
    "                                                range=Q_(1000, 'm'))\n",
    "\n",
    "\n",
    "tf, tm = Aircraft_comp.compute_total_loads(fd_state=cruise.ac_states, controls=cruise.controls)\n",
    "print(tf.value)\n",
    "print(tm.value)"
   ]
  }
 ],
 "metadata": {
  "kernelspec": {
   "display_name": "aircraft_framework_env",
   "language": "python",
   "name": "python3"
  },
  "language_info": {
   "codemirror_mode": {
    "name": "ipython",
    "version": 3
   },
   "file_extension": ".py",
   "mimetype": "text/x-python",
   "name": "python",
   "nbconvert_exporter": "python",
   "pygments_lexer": "ipython3",
   "version": "3.10.16"
  }
 },
 "nbformat": 4,
 "nbformat_minor": 5
}
