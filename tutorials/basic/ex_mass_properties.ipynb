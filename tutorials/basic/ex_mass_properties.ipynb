{
 "cells": [
  {
   "cell_type": "markdown",
   "id": "7e671a12",
   "metadata": {},
   "source": [
    "# Mass Properties\n",
    "\n",
    "This notebook is the third step in the aircraft simulation and design optimization workflow. Here, you will learn how to use the framework to calculate the total mass properties of the aircraft, such as total mass, center of gravity, and moments of inertia, based on the components defined in the previous tutorials.\n",
    "\n",
    "**Purpose:**\n",
    "- Compute essential mass properties required for flight simulation and analysis.\n",
    "- Prepare data for use in performance and stability calculations.\n",
    "\n",
    "**What you will learn:**\n",
    "#TODO: Insert what you will learn here\n",
    "\n",
    "\n",
    "\n"
   ]
  },
  {
   "cell_type": "code",
   "execution_count": null,
   "id": "6c2e77c3",
   "metadata": {},
   "outputs": [],
   "source": [
    "%run ../basic/ex_geometry.ipynb\n",
    "from falco.core.loads.mass_properties import MassProperties, MassMI\n",
    "from falco.core.vehicle.components.component import Component\n",
    "from falco import REPO_ROOT_FOLDER, Q_, ureg\n",
    "from falco.core.dynamics.axis import Axis, ValidOrigins\n",
    "from falco.core.loads.forces_moments import Vector\n",
    "\n",
    "import csdl_alpha as csdl\n",
    "import numpy as np"
   ]
  },
  {
   "cell_type": "code",
   "execution_count": null,
   "id": "0cc58923",
   "metadata": {},
   "outputs": [],
   "source": [
    "M_Aircraft = 1043.2616  # kg\n",
    "\n",
    "\n",
    "c172_mi = MassMI(axis=fd_axis,\n",
    "                 Ixx=Q_(1285.3154166, 'kg*(m*m)'),\n",
    "                 Iyy=Q_(1824.9309607, 'kg*(m*m)'),\n",
    "                 Izz=Q_(2666.89390765, 'kg*(m*m)'),\n",
    "                 Ixy=Q_(0, 'kg*(m*m)'),\n",
    "                 Ixz=Q_(0, 'kg*(m*m)'),\n",
    "                 Iyz=Q_(0, 'kg*(m*m)'))\n",
    "c172_mass_properties = MassProperties(mass=Q_(M_Aircraft, 'kg'),\n",
    "                                      inertia=c172_mi,\n",
    "                                      cg=Vector(vector=Q_(np.array([0, 0, 0]), 'm'), axis=fd_axis))\n",
    "Aircraft_comp.mass_properties = c172_mass_properties\n",
    "\n",
    "\n",
    "\n"
   ]
  }
 ],
 "metadata": {
  "kernelspec": {
   "display_name": "aircraft_framework_env",
   "language": "python",
   "name": "python3"
  },
  "language_info": {
   "codemirror_mode": {
    "name": "ipython",
    "version": 3
   },
   "file_extension": ".py",
   "mimetype": "text/x-python",
   "name": "python",
   "nbconvert_exporter": "python",
   "pygments_lexer": "ipython3",
   "version": "3.10.16"
  }
 },
 "nbformat": 4,
 "nbformat_minor": 5
}
