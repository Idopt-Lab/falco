{
 "cells": [
  {
   "cell_type": "markdown",
   "id": "7e671a12",
   "metadata": {},
   "source": [
    "# Mass Properties\n",
    "\n",
    "This notebook is the third step in the aircraft simulation and design optimization workflow. Here, you will learn how to use the framework to calculate the total mass properties of the aircraft, such as total mass, center of gravity, and moments of inertia, based on the components defined in the previous tutorials.\n",
    "\n",
    "**Purpose:**\n",
    "- Compute essential mass properties required for flight simulation and analysis.\n",
    "- Prepare data for use in performance and stability calculations.\n",
    "\n",
    "**What you will learn:**\n",
    "#TODO: Insert what you will learn here\n",
    "\n",
    "\n",
    "\n"
   ]
  }
 ],
 "metadata": {
  "language_info": {
   "name": "python"
  }
 },
 "nbformat": 4,
 "nbformat_minor": 5
}
