{
 "cells": [
  {
   "cell_type": "markdown",
   "id": "e8cb57b7",
   "metadata": {},
   "source": [
    "# Geometry, Axes, and Components\n",
    "\n",
    "This notebook is the first step in the aircraft simulation and design optimization workflow. Here, you will learn how to define the geometry of an aircraft, including its main components (such as wings, fuselage, and tail surfaces) and their key parameters. \n",
    "\n",
    "**Important Note: If you are interested in a single code cell to run this entire example (or to use as a basis for your own work) see the code cell at the bottom of the example and uncomment all lines**\n",
    "\n",
    "**Purpose:**\n",
    "- Establish the baseline configuration for the aircraft.\n",
    "- Set up the geometric parameters that can be used in subsequent analyses (aerodynamics, mass properties, free form deformation, etc.).\n",
    "\n",
    "**What you will learn:**\n",
    "- How to specify the main geometric features of an aircraft in this framework\n",
    "- How to setup axis systems both disconnected and connected to geometry.\n",
    "- How to define components"
   ]
  },
  {
   "cell_type": "markdown",
   "id": "6c4bbff9",
   "metadata": {},
   "source": [
    "This notebook is intended to provide geometry setup methodology for a theoretical \"Super\" Cessna 172 aircraft as the first part of a multi-part tutorial series. This aircraft is a modified version of the Cessna 172, featuring six total rotors, two of which are intended as lift-only and four of which are tilt-capable. This is intended to be a theoretical novel aircraft and is solely intended to be used for demonstration purposes. The notebook will cover the following key steps:\n",
    "\n",
    "1. **Importing Geometry**: \n",
    "   - Import a .stp file representing the aircraft geometry.\n",
    "\n",
    "2. **Setting Up Axes**:\n",
    "   - Create inertial, openvsp, wing, and pusher rotor axes from the geometry.\n",
    "   - Simulate the creation of six lift rotors on the C172, including two at the wing tips (tilt-capable), two at the horizontal tail tips (tilt-capable), one in front of the wing on the fuselage (lift-only), and one in the back of the wing on the fuselage (lift-only).\n",
    "3. **Defining Components**:\n",
    "   - Define components for both real components from geometry (wing, fuselage, horizontal tail, vertical tail, pusher rotor) and fake components (six lift rotors). This part does not necessarily require geometry\n"
   ]
  },
  {
   "cell_type": "code",
   "execution_count": null,
   "id": "274aba99",
   "metadata": {},
   "outputs": [],
   "source": [
    "# Preliminary setup\n",
    "import lsdo_function_spaces as lfs\n",
    "import csdl_alpha as csdl\n",
    "import numpy as np\n",
    "from falco.utils.import_geometry import import_geometry\n",
    "from falco import REPO_ROOT_FOLDER, Q_\n",
    "from lsdo_geo.core.geometry.geometry import Geometry\n",
    "from falco.core.dynamics.axis import Axis, ValidOrigins\n",
    "from falco.core.dynamics.axis_lsdogeo import AxisLsdoGeo\n",
    "\n",
    "lfs.num_workers = 1 # LSDO Function Spaces is capable of using more than 1 worker (see their documentation). For ease, and use on windows machines, we use 1.\n",
    "\n",
    "# Unit Conversions for manual setup of geometry locations\n",
    "\n",
    "in2m=0.0254\n",
    "ft2m = 0.3048\n",
    "\n",
    "recorder = csdl.Recorder(inline=True, expand_ops=True, debug=False)\n",
    "recorder.start()\n"
   ]
  },
  {
   "cell_type": "markdown",
   "id": "9f9c15fe",
   "metadata": {},
   "source": [
    "## Importing Geometry (.stp)\n",
    "Let's now import the actual geometry of the aircraft. The geometry is imported from a STEP (.stp) file, which is a common format for 3D models. It is a common output of OpenVSP and other CAD software. The geometry is imported using the `import_geometry` function. This function relies on the `lsdo_geo` library, which is a part of the LSDO (Large-Scale Design Optimization) framework. \n",
    "\n",
    "The file name is set to \"c172.stp\", which is a STEP file representing the Cessna 172 aircraft. REPO_ROOT_FOLDER is a variable that points to the root folder of the flight simulator repository, but you can adjust the `file_path` parameter to point to the location of your stp file if it is not in the specified folder. The `scale` parameter is set to `in2m`, which converts the dimensions from inches to meters, as the simulation framework operates in SI units, but the original stp model was output in inches from OpenVSP. The `rotate_to_body_fixed_frame` parameter is set to `True`, which means that the geometry will be rotated to align with the body-fixed frame. This is taken as x increasing from nose to tail (longitudinal), y increasing from left to right (lateral), and z increasing from top to bottom (vertical). This means the z axis is pointing downwards, which is the standard convention for flight dynamics analysis. \n"
   ]
  },
  {
   "cell_type": "code",
   "execution_count": null,
   "id": "c186614d",
   "metadata": {},
   "outputs": [],
   "source": [
    "sc172_geometry = import_geometry(\n",
    "        file_name=\"c172.stp\",\n",
    "        file_path= REPO_ROOT_FOLDER / 'tutorials'/ 'geometries',\n",
    "        refit=False,\n",
    "        scale=in2m,\n",
    "        rotate_to_body_fixed_frame=True\n",
    "    )\n",
    "\n",
    "# the .plot method below is used to visualize the geometry in a 3D plot. \n",
    "# View further documentation for the plot method in the lsdo_function_spaces library.\n",
    "# While this will not work in a Jupyter notebook, it will work in a normal Python script.\n",
    "\n",
    "# sc172_geometry.plot(\n",
    "#     show=True)"
   ]
  },
  {
   "cell_type": "markdown",
   "id": "ea69b611",
   "metadata": {},
   "source": [
    "Next we will talk about how to assign specific subsets of geometries from your .stp file to a variable. This is done using `declare_component` method from lsdo_geo's `Geometry` class. You would be interested in doing this if you want to manipulate specific parts of the geometry, such as wings, fuselage, or rotors independently instead of the entire aircraft geometry. In `declare_component`, you can specify the `function_search_names` parameter, which is a list of names that will be used to search for the components in the geometry. Depending on your output settings from OpenVSP, these names may vary. You can find the names of the components in the .stp file by opening it in a CAD software or by searching the .stp file in a text editor. The `name` parameter is used to assign a name to the component, which can be used later to reference the component in the simulation.\n",
    "\n",
    "You will notice some searches include multiple names, such as tails searching for the horizontal stabilizer and the vertical stabilizer. This grouping, separate from the horzTail and vertTail, allows for flexibility in the geometry definition, as it allows you to reference the entire tail assembly without needing to specify each part individually for a desired manipulation while still allowing you to do so if desired. An example manipulation would be the coupled move of the horizontal and vertical stabilizers forward by the same few inches while retaining the ability to independently increase each individual tail's surface area to retain control authority."
   ]
  },
  {
   "cell_type": "code",
   "execution_count": 5,
   "id": "c1f46a9d",
   "metadata": {},
   "outputs": [],
   "source": [
    "wing = sc172_geometry.declare_component(function_search_names=['MainWing'], name='wing')\n",
    "horzTail = sc172_geometry.declare_component(function_search_names=['HTail'], name='horzTail')\n",
    "vertTail = sc172_geometry.declare_component(function_search_names=['VerticalTail'], name='vertTail')\n",
    "fuselage = sc172_geometry.declare_component(function_search_names=['Fuselag'], name='fuselage')\n",
    "\n",
    "tails = sc172_geometry.declare_component(function_search_names=['Htail, VerticalTail'], name='tails')"
   ]
  },
  {
   "cell_type": "markdown",
   "id": "e0f3e55b",
   "metadata": {},
   "source": [
    "Notice in the above section there is no definition of the traditional propellers on the front of the fuselage of the Cessna 172. Even though it was included in the original geometry of the .stp file, we choose not to import it because we are not interested in adding the forward propeller to our super cessna aircraft. This, and other propulsors, will be added later in the tutorial as components with no assigned geometry.\n",
    "\n",
    "## Geometry Point Parameterization and Evaluation\n",
    "We will next focus on parameterization of specific points on each of these geometries. This is done by guessing a point nearest to the desired point and then using the `project` method to find the closest point on the geometry. We will then use the `evaluate` method to get the function evaluated point. Guesses are taken from OpenVSP or from the CAD model. Notice each point starts with a guess, a projection on a subset of geometry, then an evaluation on the full geometry. "
   ]
  },
  {
   "cell_type": "code",
   "execution_count": 6,
   "id": "5594f3ce",
   "metadata": {},
   "outputs": [
    {
     "ename": "ValueError",
     "evalue": "operands could not be broadcast together with shapes (3,) (0,) ",
     "output_type": "error",
     "traceback": [
      "\u001b[1;31m---------------------------------------------------------------------------\u001b[0m",
      "\u001b[1;31mValueError\u001b[0m                                Traceback (most recent call last)",
      "Cell \u001b[1;32mIn[6], line 4\u001b[0m\n\u001b[0;32m      1\u001b[0m \u001b[38;5;66;03m# Wing Parameterization\u001b[39;00m\n\u001b[0;32m      2\u001b[0m \u001b[38;5;66;03m# TODO: Fill guesses\u001b[39;00m\n\u001b[0;32m      3\u001b[0m wing_le_left_guess \u001b[38;5;241m=\u001b[39m np\u001b[38;5;241m.\u001b[39marray([])\u001b[38;5;241m*\u001b[39mft2m\n\u001b[1;32m----> 4\u001b[0m wing_le_left_parametric \u001b[38;5;241m=\u001b[39m \u001b[43mwing\u001b[49m\u001b[38;5;241;43m.\u001b[39;49m\u001b[43mproject\u001b[49m\u001b[43m(\u001b[49m\u001b[43mwing_le_left_guess\u001b[49m\u001b[43m,\u001b[49m\u001b[43m \u001b[49m\u001b[43mplot\u001b[49m\u001b[38;5;241;43m=\u001b[39;49m\u001b[38;5;28;43;01mFalse\u001b[39;49;00m\u001b[43m)\u001b[49m\n\u001b[0;32m      5\u001b[0m wing_le_left \u001b[38;5;241m=\u001b[39m sc172_geometry\u001b[38;5;241m.\u001b[39mevaluate(wing_le_left_parametric)\n\u001b[0;32m      7\u001b[0m wing_le_right_guess \u001b[38;5;241m=\u001b[39m np\u001b[38;5;241m.\u001b[39marray([])\u001b[38;5;241m*\u001b[39mft2m\n",
      "File \u001b[1;32m~\\Documents\\GitHub\\PycharmProjects\\lsdo_function_spaces\\lsdo_function_spaces\\core\\function_set.py:580\u001b[0m, in \u001b[0;36mFunctionSet.project\u001b[1;34m(self, points, num_workers, direction, grid_search_density_parameter, max_newton_iterations, newton_tolerance, plot, extrema, force_reprojection, priority_inds, priority_eps)\u001b[0m\n\u001b[0;32m    578\u001b[0m         parametric_coordinates\u001b[38;5;241m.\u001b[39mextend(result)\n\u001b[0;32m    579\u001b[0m \u001b[38;5;28;01melse\u001b[39;00m:\n\u001b[1;32m--> 580\u001b[0m     parametric_coordinates \u001b[38;5;241m=\u001b[39m \u001b[43mfind_best_surface_chunked\u001b[49m\u001b[43m(\u001b[49m\u001b[43mpoints\u001b[49m\u001b[43m,\u001b[49m\u001b[43m \u001b[49m\u001b[38;5;28;43mself\u001b[39;49m\u001b[38;5;241;43m.\u001b[39;49m\u001b[43mfunctions\u001b[49m\u001b[43m,\u001b[49m\u001b[43m \u001b[49m\u001b[43moptions\u001b[49m\u001b[43m)\u001b[49m\n\u001b[0;32m    582\u001b[0m characters \u001b[38;5;241m=\u001b[39m string\u001b[38;5;241m.\u001b[39mascii_letters \u001b[38;5;241m+\u001b[39m string\u001b[38;5;241m.\u001b[39mdigits  \u001b[38;5;66;03m# Alphanumeric characters\u001b[39;00m\n\u001b[0;32m    583\u001b[0m \u001b[38;5;66;03m# Generate a random string of the specified length\u001b[39;00m\n",
      "File \u001b[1;32m~\\Documents\\GitHub\\PycharmProjects\\lsdo_function_spaces\\lsdo_function_spaces\\core\\function_set.py:74\u001b[0m, in \u001b[0;36mfind_best_surface_chunked\u001b[1;34m(chunk, functions, options)\u001b[0m\n\u001b[0;32m     72\u001b[0m \u001b[38;5;28;01melse\u001b[39;00m:\n\u001b[0;32m     73\u001b[0m     \u001b[38;5;28;01mif\u001b[39;00m direction \u001b[38;5;129;01mis\u001b[39;00m \u001b[38;5;28;01mNone\u001b[39;00m:\n\u001b[1;32m---> 74\u001b[0m         lower_bounds \u001b[38;5;241m=\u001b[39m {i: function\u001b[38;5;241m.\u001b[39m_compute_distance_bounds(point) \u001b[38;5;28;01mfor\u001b[39;00m i, function \u001b[38;5;129;01min\u001b[39;00m functions\u001b[38;5;241m.\u001b[39mitems()}\n\u001b[0;32m     75\u001b[0m         sorted_surfaces \u001b[38;5;241m=\u001b[39m \u001b[38;5;28msorted\u001b[39m(lower_bounds\u001b[38;5;241m.\u001b[39mkeys(), key\u001b[38;5;241m=\u001b[39m\u001b[38;5;28;01mlambda\u001b[39;00m x: lower_bounds[x])\n\u001b[0;32m     77\u001b[0m     \u001b[38;5;28;01melse\u001b[39;00m:\n",
      "File \u001b[1;32m~\\Documents\\GitHub\\PycharmProjects\\lsdo_function_spaces\\lsdo_function_spaces\\core\\function_set.py:74\u001b[0m, in \u001b[0;36m<dictcomp>\u001b[1;34m(.0)\u001b[0m\n\u001b[0;32m     72\u001b[0m \u001b[38;5;28;01melse\u001b[39;00m:\n\u001b[0;32m     73\u001b[0m     \u001b[38;5;28;01mif\u001b[39;00m direction \u001b[38;5;129;01mis\u001b[39;00m \u001b[38;5;28;01mNone\u001b[39;00m:\n\u001b[1;32m---> 74\u001b[0m         lower_bounds \u001b[38;5;241m=\u001b[39m {i: \u001b[43mfunction\u001b[49m\u001b[38;5;241;43m.\u001b[39;49m\u001b[43m_compute_distance_bounds\u001b[49m\u001b[43m(\u001b[49m\u001b[43mpoint\u001b[49m\u001b[43m)\u001b[49m \u001b[38;5;28;01mfor\u001b[39;00m i, function \u001b[38;5;129;01min\u001b[39;00m functions\u001b[38;5;241m.\u001b[39mitems()}\n\u001b[0;32m     75\u001b[0m         sorted_surfaces \u001b[38;5;241m=\u001b[39m \u001b[38;5;28msorted\u001b[39m(lower_bounds\u001b[38;5;241m.\u001b[39mkeys(), key\u001b[38;5;241m=\u001b[39m\u001b[38;5;28;01mlambda\u001b[39;00m x: lower_bounds[x])\n\u001b[0;32m     77\u001b[0m     \u001b[38;5;28;01melse\u001b[39;00m:\n",
      "File \u001b[1;32m~\\Documents\\GitHub\\PycharmProjects\\lsdo_function_spaces\\lsdo_function_spaces\\core\\function.py:48\u001b[0m, in \u001b[0;36mFunction._compute_distance_bounds\u001b[1;34m(self, point, direction)\u001b[0m\n\u001b[0;32m     47\u001b[0m \u001b[38;5;28;01mdef\u001b[39;00m\u001b[38;5;250m \u001b[39m\u001b[38;5;21m_compute_distance_bounds\u001b[39m(\u001b[38;5;28mself\u001b[39m, point, direction\u001b[38;5;241m=\u001b[39m\u001b[38;5;28;01mNone\u001b[39;00m):\n\u001b[1;32m---> 48\u001b[0m     \u001b[38;5;28;01mreturn\u001b[39;00m \u001b[38;5;28;43mself\u001b[39;49m\u001b[38;5;241;43m.\u001b[39;49m\u001b[43mspace\u001b[49m\u001b[38;5;241;43m.\u001b[39;49m\u001b[43m_compute_distance_bounds\u001b[49m\u001b[43m(\u001b[49m\u001b[43mpoint\u001b[49m\u001b[43m,\u001b[49m\u001b[43m \u001b[49m\u001b[38;5;28;43mself\u001b[39;49m\u001b[43m,\u001b[49m\u001b[43m \u001b[49m\u001b[43mdirection\u001b[49m\u001b[38;5;241;43m=\u001b[39;49m\u001b[43mdirection\u001b[49m\u001b[43m)\u001b[49m\n",
      "File \u001b[1;32m~\\Documents\\GitHub\\PycharmProjects\\lsdo_function_spaces\\lsdo_function_spaces\\core\\spaces\\b_spline_space.py:263\u001b[0m, in \u001b[0;36mBSplineSpace._compute_distance_bounds\u001b[1;34m(self, point, function, direction)\u001b[0m\n\u001b[0;32m    260\u001b[0m         function\u001b[38;5;241m.\u001b[39mbounding_box[\u001b[38;5;241m1\u001b[39m, :] \u001b[38;5;241m=\u001b[39m np\u001b[38;5;241m.\u001b[39mmax(coefficients, axis\u001b[38;5;241m=\u001b[39m\u001b[38;5;241m0\u001b[39m)\n\u001b[0;32m    262\u001b[0m \u001b[38;5;28;01mif\u001b[39;00m direction \u001b[38;5;129;01mis\u001b[39;00m \u001b[38;5;28;01mNone\u001b[39;00m:\n\u001b[1;32m--> 263\u001b[0m     neg \u001b[38;5;241m=\u001b[39m \u001b[43mfunction\u001b[49m\u001b[38;5;241;43m.\u001b[39;49m\u001b[43mbounding_box\u001b[49m\u001b[43m[\u001b[49m\u001b[38;5;241;43m0\u001b[39;49m\u001b[43m]\u001b[49m\u001b[43m \u001b[49m\u001b[38;5;241;43m-\u001b[39;49m\u001b[43m \u001b[49m\u001b[43mpoint\u001b[49m\n\u001b[0;32m    264\u001b[0m     pos \u001b[38;5;241m=\u001b[39m point \u001b[38;5;241m-\u001b[39m function\u001b[38;5;241m.\u001b[39mbounding_box[\u001b[38;5;241m1\u001b[39m]\n\u001b[0;32m    265\u001b[0m     distance_vector \u001b[38;5;241m=\u001b[39m np\u001b[38;5;241m.\u001b[39mmaximum(np\u001b[38;5;241m.\u001b[39mmaximum(neg, pos), \u001b[38;5;241m0\u001b[39m)\n",
      "\u001b[1;31mValueError\u001b[0m: operands could not be broadcast together with shapes (3,) (0,) "
     ]
    }
   ],
   "source": [
    "# Wing Parameterization\n",
    "# TODO: Fill guesses\n",
    "wing_le_left_guess = np.array([])*ft2m\n",
    "wing_le_left_parametric = wing.project(wing_le_left_guess, plot=False)\n",
    "wing_le_left = sc172_geometry.evaluate(wing_le_left_parametric)\n",
    "\n",
    "wing_le_right_guess = np.array([])*ft2m\n",
    "wing_le_right_parametric = wing.project(wing_le_right_guess, plot=False)\n",
    "wing_le_right = sc172_geometry.evaluate(wing_le_right_parametric)\n",
    "\n",
    "wing_le_center_guess = np.array([])*ft2m\n",
    "wing_le_center_parametric = wing.project(wing_le_center_guess, plot=False)\n",
    "wing_le_center = sc172_geometry.evaluate(wing_le_center_parametric)\n",
    "\n",
    "wing_te_left_guess = np.array([])*ft2m\n",
    "wing_te_left_parametric = wing.project(wing_te_left_guess, plot=False)\n",
    "wing_te_left = sc172_geometry.evaluate(wing_te_left_parametric)\n",
    "\n",
    "wing_te_right_guess = np.array([])*ft2m\n",
    "wing_te_right_parametric = wing.project(wing_te_right_guess, plot=False)\n",
    "wing_te_right = sc172_geometry.evaluate(wing_te_right_parametric)\n",
    "\n",
    "wing_te_center_guess = np.array([])*ft2m\n",
    "wing_te_center_parametric = wing.project(wing_te_center_guess, plot=False)\n",
    "wing_te_center = sc172_geometry.evaluate(wing_te_center_parametric)"
   ]
  },
  {
   "cell_type": "code",
   "execution_count": null,
   "id": "a9429586",
   "metadata": {},
   "outputs": [],
   "source": [
    "# Horizontal Tail Parameterization\n",
    "# TODO: Horizontal Tail"
   ]
  },
  {
   "cell_type": "code",
   "execution_count": null,
   "id": "bdc44352",
   "metadata": {},
   "outputs": [],
   "source": [
    "# Vertical Tail Parameterization\n",
    "# TODO: Vertical Tail"
   ]
  },
  {
   "cell_type": "code",
   "execution_count": null,
   "id": "a9ca9b7c",
   "metadata": {},
   "outputs": [],
   "source": [
    "# Fuselage Parameterization\n",
    "# TODO: Fuselage"
   ]
  },
  {
   "cell_type": "markdown",
   "id": "7ebacda6",
   "metadata": {},
   "source": [
    "## Axis System Setup\n",
    "Next we will discuss the setup of various axes systems used in the framework. These can be tied to geometry if desired, but are not required to be. If they are tied to geometry they will be setup using the `AxisLsdoGeo` function instead of `Axis`. The axes systems are used to define the orientation and position of the aircraft in the simulation. Axis systems are defined relative to others, with the two base axis origins being the Inertial and the OpenVSP origins. \n",
    "\n",
    "The most important axis to setup for your model is the flight dynamics body fixed axis, which can be anywhere in your model. For ours, we will set it to be with respect to the inertial axis system with no translation offset. This body fixed axis system is what all load solvers translate loads to.\n",
    "\n"
   ]
  },
  {
   "cell_type": "code",
   "execution_count": null,
   "id": "c1177488",
   "metadata": {},
   "outputs": [],
   "source": [
    "# Inertial Axis\n",
    "inertial_axis = Axis(\n",
    "    name='Inertial Axis',\n",
    "    origin=ValidOrigins.Inertial.value\n",
    ")\n",
    "\n",
    "# OpenVSP Axis\n",
    "openvsp_axis = Axis(\n",
    "    name='OpenVSP Axis',\n",
    "    x=Q_(0, 'm'),\n",
    "    y=Q_(0, 'm'),\n",
    "    z=Q_(0, 'm'),\n",
    "    origin=ValidOrigins.OpenVSP.value\n",
    ")\n",
    "\n",
    "# Flight Dynamics Body Fixed Axis\n",
    "fd_axis = Axis(\n",
    "        name='Flight Dynamics Body Fixed Axis',\n",
    "        x=Q_(0, 'ft'),\n",
    "        y=Q_(0, 'ft'),\n",
    "        z=Q_(0, 'ft'),  \n",
    "        phi=Q_(0, 'deg'),\n",
    "        theta=Q_(0, 'deg'),\n",
    "        psi=Q_(0, 'deg'),\n",
    "        sequence=np.array([3, 2, 1]),\n",
    "        reference=inertial_axis,\n",
    "        origin=ValidOrigins.Inertial.value\n",
    "    )\n",
    "\n",
    "# AxisLsdoGeo for Geometry\n",
    "#TODO: Setup geometry axes systems"
   ]
  },
  {
   "cell_type": "markdown",
   "id": "394af92d",
   "metadata": {},
   "source": [
    "## Components\n",
    "Finally, we will define the components of the aircraft. Components are used to define the main parts of the aircraft, such as wings, fuselage, and tail surfaces. Components can be defined with or without geometry. In this case, we will define the components with geometry for the real components (wing, fuselage, horizontal tail, vertical tail, pusher rotor) and without geometry for the \"fake\" components (six rotors). "
   ]
  },
  {
   "cell_type": "code",
   "execution_count": null,
   "id": "4dec157b",
   "metadata": {},
   "outputs": [],
   "source": [
    "#TODO: Define Components"
   ]
  }
 ],
 "metadata": {
  "kernelspec": {
   "display_name": "env_mdo",
   "language": "python",
   "name": "python3"
  },
  "language_info": {
   "codemirror_mode": {
    "name": "ipython",
    "version": 3
   },
   "file_extension": ".py",
   "mimetype": "text/x-python",
   "name": "python",
   "nbconvert_exporter": "python",
   "pygments_lexer": "ipython3",
   "version": "3.10.16"
  }
 },
 "nbformat": 4,
 "nbformat_minor": 5
}
