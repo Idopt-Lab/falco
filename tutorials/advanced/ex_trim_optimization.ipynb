{
 "cells": [
  {
   "cell_type": "markdown",
   "id": "e73c03fd",
   "metadata": {},
   "source": [
    "# Trim Optimization\n",
    "\n",
    "TODO: Trim Optimization Tutorial."
   ]
  }
 ],
 "metadata": {
  "language_info": {
   "name": "python"
  }
 },
 "nbformat": 4,
 "nbformat_minor": 5
}
