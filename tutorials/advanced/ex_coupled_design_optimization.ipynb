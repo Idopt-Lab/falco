{
 "cells": [
  {
   "cell_type": "markdown",
   "id": "a3791b96",
   "metadata": {},
   "source": [
    "# Coupled Design Optimization\n",
    "\n",
    "TODO: Design Optimization Tutorial."
   ]
  }
 ],
 "metadata": {
  "language_info": {
   "name": "python"
  }
 },
 "nbformat": 4,
 "nbformat_minor": 5
}
