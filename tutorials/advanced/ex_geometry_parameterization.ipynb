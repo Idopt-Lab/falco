{
 "cells": [
  {
   "cell_type": "markdown",
   "id": "aa9f6fd3",
   "metadata": {},
   "source": [
    "# Geometry Parameterization\n",
    "\n",
    "TODO: Geometry Parameterization Tutorial.\n"
   ]
  }
 ],
 "metadata": {
  "language_info": {
   "name": "python"
  }
 },
 "nbformat": 4,
 "nbformat_minor": 5
}
